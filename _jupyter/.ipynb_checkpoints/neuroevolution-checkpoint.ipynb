{
 "cells": [
  {
   "cell_type": "markdown",
   "metadata": {
    "id": "yG64EGDWF8S5"
   },
   "source": [
    "# Neuroevolution\n",
    "\n",
    "Neuroevolution is a method of applying evolutionary algorithms to optimise neural networks instead of using backpropagation. Neuroevolution therefore is a non-gradient (or derivation-free) optimisation, which can speed up training as backward passes are not computed. The neural network optimised by neuroevolution can be adapted in terms of parameters, hyperparameters or network architecture. Prominent examples of neuroevolution are NeuroEvolution of Augmenting Topologies (NEAT) and Covariance-Matrix Adaptation Evolution Strategy (CMA-ES). The evolutionary algorithm employed in this notebook is the vanilla genetic algorithm without crossing-over, applying only mutation over neural network parameters (weights). 2nd of a 3-part series on evolutionary computation (Part 1 - [Genetic Algorithm](https://jetnew.io/posts/2020/11/genetic-algorithm/), Part 3 - [Novelty Search](https://jetnew.io/posts/2020/11/novelty-search/))."
   ]
  },
  {
   "cell_type": "code",
   "execution_count": 1,
   "metadata": {
    "id": "xAcAFBSybHvI"
   },
   "outputs": [],
   "source": [
    "import numpy as np\n",
    "np.random.seed(0)\n",
    "import matplotlib.pyplot as plt\n",
    "import torch\n",
    "import torch.nn as nn\n",
    "import torch.nn.functional as F\n",
    "import torch.optim as optim\n",
    "from torch.autograd import Variable"
   ]
  },
  {
   "cell_type": "markdown",
   "metadata": {
    "id": "AsM4FhaDGpWw"
   },
   "source": [
    "# The Neural Network Model (\"Neuro\"-evolution)\n",
    "\n",
    "The neural network, or a multi-layer perceptron, is a universal function approximator. The neural network in PyTorch with 2 hidden layers and non-linear activation functions hyperbolic tangent (tanh) and sigmoid is defined."
   ]
  },
  {
   "cell_type": "code",
   "execution_count": 2,
   "metadata": {
    "id": "naL_GH-oDpeI"
   },
   "outputs": [],
   "source": [
    "net = nn.Sequential(\n",
    "    nn.Linear(in_features=2, out_features=16, bias=True),\n",
    "    nn.Tanh(),\n",
    "    nn.Linear(in_features=16, out_features=1),\n",
    "    nn.Sigmoid()\n",
    ")\n",
    "\n",
    "class Net(nn.Module):\n",
    "  def __init__(self, input_size, output_size, n_hidden=16):\n",
    "    super(Net, self).__init__()\n",
    "    self.linear1 = nn.Linear(input_size, n_hidden, bias=True)\n",
    "    self.tanh1 = nn.Tanh()\n",
    "    self.linear2 = nn.Linear(n_hidden, output_size)\n",
    "    self.sigmoid = nn.Sigmoid()\n",
    "  def forward(self, x):\n",
    "    x = self.linear1(x)\n",
    "    x = self.tanh1(x)\n",
    "    x = self.linear2(x)\n",
    "    x = self.sigmoid(x)\n",
    "    return x\n",
    "\n",
    "net = Net(2, 1)"
   ]
  },
  {
   "cell_type": "markdown",
   "metadata": {
    "id": "mT374jcLJMbk"
   },
   "source": [
    "# The Mutation Function (Neuro-\"evolution\")\n",
    "\n",
    "As with the genetic algorithm, neuroevolution can be implemented by adding an additive Gaussian noise $\\epsilon\\sim N(0,\\sigma)$ to all neural network weights to introduce variance in the \"gene pool\" of the population."
   ]
  },
  {
   "cell_type": "code",
   "execution_count": 3,
   "metadata": {
    "colab": {
     "base_uri": "https://localhost:8080/"
    },
    "id": "zAg5LNvtD7eK",
    "outputId": "3e935054-4cb9-40eb-fd03-ce3fa181cb86"
   },
   "outputs": [
    {
     "name": "stdout",
     "output_type": "stream",
     "text": [
      "Before mutation:\n",
      " tensor([-0.5949, -0.1591, -0.6217,  0.0710, -0.6687, -0.3964,  0.3319, -0.2988,\n",
      "         0.6695,  0.4645,  0.2398, -0.2250, -0.5464,  0.2512,  0.0582,  0.0818,\n",
      "         0.1810, -0.5316,  0.3275, -0.1162,  0.2542, -0.6751,  0.4344,  0.1846,\n",
      "         0.4996, -0.1422,  0.3201, -0.0814, -0.1195,  0.1880, -0.2272, -0.4236,\n",
      "        -0.0218, -0.6078, -0.0099,  0.1856, -0.4883, -0.2465,  0.0166, -0.1269,\n",
      "         0.4119,  0.0229,  0.2381, -0.0007, -0.2959, -0.4865,  0.0240,  0.0228,\n",
      "         0.2293, -0.0649, -0.1661,  0.0788,  0.2253, -0.1549, -0.2465, -0.0267,\n",
      "        -0.1861, -0.2189,  0.0964,  0.0684, -0.0555,  0.0063,  0.1374, -0.1588,\n",
      "         0.2334], grad_fn=<CatBackward>)\n",
      "\n",
      "After mutation:\n",
      " tensor([-0.6005, -0.2099, -0.5364,  0.1007, -0.5897, -0.5340,  0.3688, -0.3615,\n",
      "         0.7335,  0.3900,  0.2519, -0.1144, -0.5839,  0.2251,  0.0043,  0.1630,\n",
      "         0.1419, -0.6593,  0.3079, -0.1238,  0.3217, -0.7810,  0.4419,  0.3621,\n",
      "         0.5246,  0.0064,  0.4284, -0.1177, -0.0700, -0.0537, -0.1281, -0.3613,\n",
      "        -0.0873, -0.6996, -0.1507,  0.1944, -0.6326, -0.1384, -0.0384,  0.0323,\n",
      "         0.3344,  0.0667,  0.1177, -0.1347, -0.3413, -0.5302, -0.1326,  0.3330,\n",
      "         0.2282, -0.1485, -0.1944,  0.2058,  0.2997, -0.0631, -0.1202, -0.0973,\n",
      "        -0.1269, -0.4766, -0.0509,  0.1725, -0.0470, -0.0562,  0.1357, -0.2274,\n",
      "         0.3410], grad_fn=<CatBackward>)\n"
     ]
    }
   ],
   "source": [
    "from torch.nn.utils import parameters_to_vector, vector_to_parameters\n",
    "\n",
    "def get_params(net):\n",
    "  return parameters_to_vector(net.parameters())\n",
    "\n",
    "def mutate_params(net, sigma=0.1):\n",
    "    mutated_params = get_params(net) + torch.normal(0, sigma, size=get_params(net).data.shape)\n",
    "    vector_to_parameters(mutated_params, net.parameters())\n",
    "\n",
    "print(f\"Before mutation:\\n {get_params(net)}\\n\")\n",
    "mutate_params(net, sigma=0.1)\n",
    "print(f\"After mutation:\\n {get_params(net)}\")"
   ]
  },
  {
   "cell_type": "markdown",
   "metadata": {
    "id": "qJl4ZOZVJZTI"
   },
   "source": [
    "# Optimization Problem: Circles Dataset\n",
    "\n",
    "The optimization problem is the Circles dataset from Scikit-Learn, where the neural network model must learn to predict and discriminate between the inner circles (labelled 1) and outer circles (labelled 0). The Circles dataset is the reason that non-linear activation functions in the neural network architecture are needed. $X$ is 2-dimensional while $y$ is 1-dimensional."
   ]
  },
  {
   "cell_type": "code",
   "execution_count": 4,
   "metadata": {
    "colab": {
     "base_uri": "https://localhost:8080/",
     "height": 353
    },
    "id": "jB2wrKECjuqT",
    "outputId": "ad0ac14a-c8a1-47da-fed7-37e3cdf79b9b"
   },
   "outputs": [
    {
     "data": {
      "text/plain": [
       "tensor([[0.5009],\n",
       "        [0.4840],\n",
       "        [0.6110],\n",
       "        [0.6143],\n",
       "        [0.5136]], grad_fn=<SigmoidBackward>)"
      ]
     },
     "execution_count": 4,
     "metadata": {},
     "output_type": "execute_result"
    },
    {
     "data": {
      "image/png": "[encoded data removed]",
      "text/plain": [
       "<Figure size 432x288 with 1 Axes>"
      ]
     },
     "metadata": {
      "needs_background": "light"
     },
     "output_type": "display_data"
    }
   ],
   "source": [
    "from sklearn.datasets import make_circles\n",
    "\n",
    "def plot_data(X, y):\n",
    "  X = X.detach().numpy()\n",
    "  y = y.detach().numpy().flatten()\n",
    "  plt.plot(X[y==0,0], X[y==0,1], '.', c='b', label='0')\n",
    "  plt.plot(X[y==1,0], X[y==1,1], '.', c='r', label='1')\n",
    "\n",
    "X, y = make_circles(n_samples=100)\n",
    "X = torch.from_numpy(X).float()\n",
    "y = torch.from_numpy(y).float().view(-1, 1)\n",
    "\n",
    "plot_data(X, y)\n",
    "net(X[:5, :])"
   ]
  },
  {
   "cell_type": "markdown",
   "metadata": {
    "id": "hoiKQIomUYmo"
   },
   "source": [
    "# Process 1: Generate the initial population of neural networks.\n",
    "\n",
    "For illustration purposes, a small population size of 5 and 4 hidden units per neural network layer is used. Inspecting the first 2 neural networks in the population, neural network weights are randomly initialised. The specific initialisation method used for the weights is documented in the [PyTorch documentation](https://pytorch.org/docs/stable/generated/torch.nn.Linear.html) for interested readers."
   ]
  },
  {
   "cell_type": "code",
   "execution_count": 5,
   "metadata": {
    "colab": {
     "base_uri": "https://localhost:8080/"
    },
    "id": "VHlc0zvST6GL",
    "outputId": "dc8f40c5-5216-48fa-81e2-9ec174a2514b"
   },
   "outputs": [
    {
     "name": "stdout",
     "output_type": "stream",
     "text": [
      "tensor([ 0.5282,  0.4404, -0.6330, -0.1387, -0.2104,  0.5194,  0.3596,  0.2664,\n",
      "         0.1044,  0.5380,  0.1583,  0.1221,  0.0324,  0.1239, -0.3698, -0.3658,\n",
      "        -0.0879], grad_fn=<CatBackward>)\n",
      "tensor([ 0.3366, -0.6526, -0.1909, -0.4681, -0.3542,  0.2475,  0.1892, -0.1961,\n",
      "        -0.2867, -0.4570, -0.3183, -0.2220,  0.1677,  0.2118,  0.1053,  0.3238,\n",
      "         0.0737], grad_fn=<CatBackward>)\n"
     ]
    }
   ],
   "source": [
    "population_size = 5\n",
    "initial_population = np.array([Net(2,1,n_hidden=4) for _ in range(population_size)])\n",
    "\n",
    "for p in initial_population[:2]:\n",
    "  print(get_params(p))"
   ]
  },
  {
   "cell_type": "markdown",
   "metadata": {
    "id": "kDbAIl1HU6Ix"
   },
   "source": [
    "# Process 2: Compute the fitness of the population.\n",
    "\n",
    "The fitness function measures the performance of an individual neural network. Because $y$ is a binary variable of values $\\{0,1\\}$, the negative binary cross entropy error (BCE) is employed, negated to reflect a higher value as more desirable."
   ]
  },
  {
   "cell_type": "code",
   "execution_count": 6,
   "metadata": {
    "colab": {
     "base_uri": "https://localhost:8080/"
    },
    "id": "mDmem-juLc-K",
    "outputId": "89411cab-c23f-4cbb-bcf8-123978730bcc"
   },
   "outputs": [
    {
     "data": {
      "text/plain": [
       "(-0.7065134644508362,\n",
       " array([-0.69943392, -0.70006615, -0.70542192, -0.69766504, -0.76979303]))"
      ]
     },
     "execution_count": 6,
     "metadata": {},
     "output_type": "execute_result"
    }
   ],
   "source": [
    "def fitness_function(net):\n",
    "  return -nn.BCELoss()(net(X), y).detach().numpy().item()\n",
    "\n",
    "def compute_fitness(population):\n",
    "  return np.array([fitness_function(individual) for individual in population])\n",
    "\n",
    "fitness_score = fitness_function(net)\n",
    "fitness_scores = compute_fitness(initial_population)\n",
    "\n",
    "fitness_score, fitness_scores"
   ]
  },
  {
   "cell_type": "markdown",
   "metadata": {
    "id": "8PVvi7uyVjov"
   },
   "source": [
    "# Process 3: Select the fittest neural networks.\n",
    "\n",
    "Select the top $k$ percentage of neural networks with the highest fitness score to form the parent subpopulation."
   ]
  },
  {
   "cell_type": "code",
   "execution_count": 7,
   "metadata": {
    "colab": {
     "base_uri": "https://localhost:8080/"
    },
    "id": "rh-CiqQIUlzz",
    "outputId": "bb1311cc-8a87-4e1a-f00b-1850fbb96e6d"
   },
   "outputs": [
    {
     "data": {
      "text/plain": [
       "array([-0.69943392, -0.69766504])"
      ]
     },
     "execution_count": 7,
     "metadata": {},
     "output_type": "execute_result"
    }
   ],
   "source": [
    "def solution(individual):\n",
    "  return individual(X).view(-1).detach().numpy().round()\n",
    "\n",
    "def get_fittest(population, fitness_scores):\n",
    "  return population[fitness_scores.argmax()]\n",
    "\n",
    "def select_fittest(population, fitness_scores, k=0.5):\n",
    "  return population[np.argsort(fitness_scores)[-int(len(population) * k):]]\n",
    "\n",
    "parent_subpopulation = select_fittest(initial_population, fitness_scores, k=0.4)\n",
    "compute_fitness(parent_subpopulation)"
   ]
  },
  {
   "cell_type": "markdown",
   "metadata": {
    "id": "t35IREfKWiy2"
   },
   "source": [
    "# Process 4: Perform reproduction of the parents to replenish the population.\n",
    "\n",
    "In contrast to common implementations of genetic algorithms, no crossing-over is performed. Parent neural networks are simply uniformly sampled with replacement to create an identical copy as the child."
   ]
  },
  {
   "cell_type": "code",
   "execution_count": 8,
   "metadata": {
    "colab": {
     "base_uri": "https://localhost:8080/"
    },
    "id": "h1t8MtGrWpWv",
    "outputId": "c79098af-cd9e-472d-c530-3aa81caa237a"
   },
   "outputs": [
    {
     "data": {
      "text/plain": [
       "array([-0.69943392, -0.69766504, -0.69943392, -0.69943392, -0.69766504])"
      ]
     },
     "execution_count": 8,
     "metadata": {},
     "output_type": "execute_result"
    }
   ],
   "source": [
    "import copy\n",
    "\n",
    "def perform_reproduction(subpopulation):\n",
    "  num_children = population_size - len(subpopulation)\n",
    "  parents = np.random.choice(subpopulation, num_children)\n",
    "  return np.append(subpopulation, [copy.deepcopy(p) for p in parents], axis=0)\n",
    "\n",
    "next_population = perform_reproduction(parent_subpopulation)\n",
    "compute_fitness(next_population)"
   ]
  },
  {
   "cell_type": "markdown",
   "metadata": {
    "id": "H7NkR7t4WaJ-"
   },
   "source": [
    "# Process 5: Perform mutation on the population.\n",
    "\n",
    "As explained previously, add a Gaussian noise perturbation to all parameters of the neural network."
   ]
  },
  {
   "cell_type": "code",
   "execution_count": 9,
   "metadata": {
    "colab": {
     "base_uri": "https://localhost:8080/"
    },
    "id": "5_YnZGmiV3sy",
    "outputId": "cdd1e347-7da9-4d72-8f22-d8915cac4623"
   },
   "outputs": [
    {
     "name": "stdout",
     "output_type": "stream",
     "text": [
      "Before mutation:\n",
      "[tensor([ 0.5282,  0.4404, -0.6330, -0.1387, -0.2104,  0.5194,  0.3596,  0.2664,\n",
      "         0.1044,  0.5380,  0.1583,  0.1221,  0.0324,  0.1239, -0.3698, -0.3658,\n",
      "        -0.0879], grad_fn=<CatBackward>), tensor([ 0.3565, -0.1857,  0.2187,  0.1788,  0.1412,  0.1778, -0.6750,  0.6518,\n",
      "        -0.5023,  0.2402,  0.4160, -0.0343,  0.0818,  0.2978,  0.3582, -0.0858,\n",
      "        -0.3332], grad_fn=<CatBackward>), tensor([ 0.5282,  0.4404, -0.6330, -0.1387, -0.2104,  0.5194,  0.3596,  0.2664,\n",
      "         0.1044,  0.5380,  0.1583,  0.1221,  0.0324,  0.1239, -0.3698, -0.3658,\n",
      "        -0.0879], grad_fn=<CatBackward>), tensor([ 0.5282,  0.4404, -0.6330, -0.1387, -0.2104,  0.5194,  0.3596,  0.2664,\n",
      "         0.1044,  0.5380,  0.1583,  0.1221,  0.0324,  0.1239, -0.3698, -0.3658,\n",
      "        -0.0879], grad_fn=<CatBackward>), tensor([ 0.3565, -0.1857,  0.2187,  0.1788,  0.1412,  0.1778, -0.6750,  0.6518,\n",
      "        -0.5023,  0.2402,  0.4160, -0.0343,  0.0818,  0.2978,  0.3582, -0.0858,\n",
      "        -0.3332], grad_fn=<CatBackward>)]\n",
      "\n",
      "After mutation:\n",
      "[tensor([ 0.6775,  0.5253, -0.6425,  0.0200, -0.2527,  0.5128,  0.4704,  0.1674,\n",
      "         0.0913,  0.3902,  0.1255,  0.2492, -0.1159,  0.0734, -0.2054, -0.3601,\n",
      "        -0.1615], grad_fn=<CatBackward>), tensor([ 0.4123, -0.2091,  0.3269,  0.2261,  0.2042,  0.2701, -0.7392,  0.5924,\n",
      "        -0.5903,  0.0912,  0.2945, -0.2038,  0.0711,  0.1820,  0.3112, -0.0067,\n",
      "        -0.3152], grad_fn=<CatBackward>), tensor([ 0.6215,  0.5592, -0.5993, -0.0947, -0.3291,  0.4888,  0.3596,  0.2436,\n",
      "         0.2440,  0.4675, -0.0707,  0.0269,  0.0515,  0.0444, -0.3241, -0.3425,\n",
      "        -0.1050], grad_fn=<CatBackward>), tensor([ 0.4444,  0.4725, -0.6944, -0.2502, -0.1153,  0.5679,  0.2696,  0.4509,\n",
      "        -0.0502,  0.6541,  0.0673,  0.1718,  0.0901,  0.0092, -0.2689, -0.4209,\n",
      "        -0.0223], grad_fn=<CatBackward>), tensor([ 0.2158, -0.1765,  0.0658,  0.1894,  0.0741, -0.1204, -0.7014,  0.5762,\n",
      "        -0.3188,  0.3198,  0.5875, -0.0955,  0.0913,  0.2711,  0.3587, -0.0755,\n",
      "        -0.4120], grad_fn=<CatBackward>)]\n"
     ]
    }
   ],
   "source": [
    "def get_population_parameter(population):\n",
    "  return [get_params(net) for net in population]\n",
    "\n",
    "def perform_mutation(population, sigma=0.1):\n",
    "  for individual in population:\n",
    "    mutate_params(individual, sigma=0.1)\n",
    "  return population\n",
    "\n",
    "print(\"Before mutation:\")\n",
    "print(get_population_parameter(next_population))\n",
    "\n",
    "perform_mutation(next_population)\n",
    "\n",
    "print(\"\\nAfter mutation:\")\n",
    "print(get_population_parameter(next_population))"
   ]
  },
  {
   "cell_type": "markdown",
   "metadata": {
    "id": "bOuYNBBDcBq9"
   },
   "source": [
    "# The Neuroevolution Algorithm: All 5 Processes Together\n",
    "\n",
    "By combining the 5 processes together, we construct the neuroevolution algorithm and run it to find a neural network solution that models the Circles dataset well.\n",
    "\n",
    "Neuroevolution:\n",
    "1. Generate the initial population of individuals.\n",
    "2. Repeat until convergence:\n",
    "  1. Compute fitness of the population.\n",
    "  2. Select the fittest individuals (parent subpopulation).\n",
    "  3. Perform reproduction between parents to produce children.\n",
    "  4. Perform mutation on the population.\n",
    "3. Select the fittest individual of the population as the solution."
   ]
  },
  {
   "cell_type": "code",
   "execution_count": 10,
   "metadata": {
    "colab": {
     "base_uri": "https://localhost:8080/",
     "height": 314,
     "referenced_widgets": [
      "0af00c2d21174db6850a849f999a3379",
      "26f3003aea2e4e838b8dac0411e256c7",
      "aac8a03b53f64bcb9842733c5b3427b0",
      "4bd2b15269574a658fc2823fbdc0fe34",
      "8fc487c4709e4f108b40272c4660077e",
      "787278646ff949cb81accacaf797ec7d",
      "ab1522b8cac247119c1ec01c0ad5287e",
      "06592a5d41ca499ebf484646fada7f1c"
     ]
    },
    "id": "n825Dt3PZxJe",
    "outputId": "da14723a-b680-44e6-c966-8ea357b4c347"
   },
   "outputs": [
    {
     "data": {
      "image/png": "[encoded data removed]",
      "text/plain": [
       "<Figure size 432x288 with 1 Axes>"
      ]
     },
     "metadata": {
      "needs_background": "light"
     },
     "output_type": "display_data"
    }
   ],
   "source": [
    "# Neuroevolution hyperparameters\n",
    "population_size = 100\n",
    "num_generations = 300\n",
    "top_k = 0.1\n",
    "mutation_sigma = 0.1\n",
    "n_hidden = 16\n",
    "\n",
    "# Process 1: Generate the initial population.\n",
    "population = np.array([Net(2, 1, n_hidden) for _ in range(population_size)])\n",
    "\n",
    "# Misc: Experimental tracking\n",
    "scores = []\n",
    "solutions = []\n",
    "fittests = []\n",
    "\n",
    "for i in range(num_generations):\n",
    "  # Process 2: Compute fitness of the population.\n",
    "  fitness_scores = compute_fitness(population)\n",
    "\n",
    "  # Process 3: Select the fittest individuals.\n",
    "  fittest_subpopulation = select_fittest(population, fitness_scores, k=top_k)\n",
    "  \n",
    "  # Misc: Experimental tracking\n",
    "  fittest = get_fittest(population, fitness_scores)\n",
    "  fittests.append(fittest)\n",
    "  solutions.append(solution(fittest))\n",
    "  scores.append(fitness_function(fittest))\n",
    "\n",
    "  # Process 4: Perform reproduction between parents.\n",
    "  children = perform_reproduction(fittest_subpopulation)\n",
    "\n",
    "  # Process 5: Perform mutation on the population.\n",
    "  population = perform_mutation(children, sigma=mutation_sigma)\n",
    "\n",
    "\n",
    "# Misc: Experimental tracking\n",
    "plt.plot(np.arange(num_generations), scores)\n",
    "plt.show()"
   ]
  },
  {
   "cell_type": "markdown",
   "metadata": {
    "id": "3ocKm5ZCdZjr"
   },
   "source": [
    "# Experiment Result\n",
    "\n",
    "The background colours illustrate the neural network's decision boundary, while the individual data points are the original dataset. Looking at the fittest individual neural network of the final population, the non-linear decision boundary has been correctly and well-learnt by the fittest neural network in the final population."
   ]
  },
  {
   "cell_type": "code",
   "execution_count": 11,
   "metadata": {
    "colab": {
     "base_uri": "https://localhost:8080/",
     "height": 286
    },
    "id": "OQRBCpcFjGld",
    "outputId": "80f0cbc9-ae67-4760-88eb-11c6386fedc0"
   },
   "outputs": [
    {
     "name": "stdout",
     "output_type": "stream",
     "text": [
      "Fittest score: -0.028863554820418358\n"
     ]
    },
    {
     "data": {
      "image/png": "[encoded data removed]",
      "text/plain": [
       "<Figure size 432x288 with 2 Axes>"
      ]
     },
     "metadata": {
      "needs_background": "light"
     },
     "output_type": "display_data"
    }
   ],
   "source": [
    "def plot_individual(net):\n",
    "  x1 = np.arange(X[:,0].min()*1.2, X[:,0].max()*1.2, 0.01)\n",
    "  x2 = np.arange(X[:,1].min()*1.2, X[:,1].max()*1.2, 0.01)\n",
    "  X1, X2 = np.meshgrid(x1, x2)\n",
    "\n",
    "  Y = np.zeros(X1.shape).flatten()\n",
    "  for i, [x1, x2] in enumerate(zip(X1.flatten(), X2.flatten())):\n",
    "    Y[i] = np.asarray(net(Variable(torch.Tensor([x1,x2])).float()).data)\n",
    "  Y = Y.reshape(X1.shape)\n",
    "\n",
    "  plt.xlim(min(X[:,0])*1.2, max(X[:,0])*1.2)\n",
    "  plt.ylim(min(X[:,1])*1.2, max(X[:,1])*1.2)\n",
    "  plt.contourf(X1, X2, Y, cmap='bwr', alpha=0.8)\n",
    "  plt.colorbar()\n",
    "\n",
    "\n",
    "fitness_score = fitness_function(fittest)\n",
    "print(f\"Fittest score: {fitness_score}\")\n",
    "\n",
    "plot_data(X, y)\n",
    "plot_individual(fittest)"
   ]
  },
  {
   "cell_type": "markdown",
   "metadata": {
    "id": "qvS0aRuUMBRU"
   },
   "source": [
    "By visualising the fittest model at each generation of neuroevolution, notice that the circular decision boundary is eventually found. For an evolutionary strategy based on novelty applied on reinforcement learning, refer to [Part 3](https://jetnew.io/posts/2020/11/novelty-search/) of the Evolutionary Computation series on Novelty Search. For an introductory treatment of the genetic algorithm, refer to [Part 1](https://jetnew.io/posts/2020/11/genetic-algorithm/)."
   ]
  },
  {
   "cell_type": "code",
   "execution_count": 12,
   "metadata": {
    "id": "HbyzpN-gdoqs"
   },
   "outputs": [],
   "source": [
    "%%capture\n",
    "from matplotlib.animation import FuncAnimation\n",
    "\n",
    "fig, ax = plt.subplots()\n",
    "\n",
    "plot_data(X, y)\n",
    "ax.set_xlim(min(X[:,0]*1.2), max(X[:,0])*1.2)\n",
    "ax.set_ylim(min(X[:,1]*1.2), max(X[:,1])*1.2)\n",
    "\n",
    "x1 = np.arange(X[:,0].min()*1.2, X[:,0].max()*1.2, 0.01)\n",
    "x2 = np.arange(X[:,1].min()*1.2, X[:,1].max()*1.2, 0.01)\n",
    "X1, X2 = np.meshgrid(x1, x2)\n",
    "\n",
    "def animate(i):\n",
    "  net = fittests[i]\n",
    "  Y = net(torch.Tensor(np.stack([X1.flatten(), X2.flatten()], axis=1))).detach().numpy().reshape(X1.shape)\n",
    "  ax.contourf(X1, X2, Y, cmap='bwr', alpha=0.8)\n",
    "  ax.set_xlabel(f'Gen {i+1}')\n",
    "\n",
    "ani = FuncAnimation(fig, animate, frames=np.arange(0, num_generations), interval=80, repeat=False)"
   ]
  },
  {
   "cell_type": "code",
   "execution_count": 13,
   "metadata": {},
   "outputs": [
    {
     "name": "stderr",
     "output_type": "stream",
     "text": [
      "MovieWriter ffmpeg unavailable; using Pillow instead.\n"
     ]
    }
   ],
   "source": [
    "ani.save('../images/neuroevolution/neuroevolution.gif')"
   ]
  },
  {
   "cell_type": "markdown",
   "metadata": {},
   "source": [
    "<img src=\"../images/neuroevolution/neuroevolution.gif\">"
   ]
  }
 ],
 "metadata": {
  "accelerator": "GPU",
  "colab": {
   "collapsed_sections": [],
   "name": "neuroevolution.ipynb",
   "provenance": []
  },
  "kernelspec": {
   "display_name": "Python 3",
   "language": "python",
   "name": "python3"
  },
  "language_info": {
   "codemirror_mode": {
    "name": "ipython",
    "version": 3
   },
   "file_extension": ".py",
   "mimetype": "text/x-python",
   "name": "python",
   "nbconvert_exporter": "python",
   "pygments_lexer": "ipython3",
   "version": "3.7.8"
  },
  "widgets": {
   "application/vnd.jupyter.widget-state+json": {
    "06592a5d41ca499ebf484646fada7f1c": {
     "model_module": "@jupyter-widgets/base",
     "model_name": "LayoutModel",
     "state": {
      "_model_module": "@jupyter-widgets/base",
      "_model_module_version": "1.2.0",
      "_model_name": "LayoutModel",
      "_view_count": null,
      "_view_module": "@jupyter-widgets/base",
      "_view_module_version": "1.2.0",
      "_view_name": "LayoutView",
      "align_content": null,
      "align_items": null,
      "align_self": null,
      "border": null,
      "bottom": null,
      "display": null,
      "flex": null,
      "flex_flow": null,
      "grid_area": null,
      "grid_auto_columns": null,
      "grid_auto_flow": null,
      "grid_auto_rows": null,
      "grid_column": null,
      "grid_gap": null,
      "grid_row": null,
      "grid_template_areas": null,
      "grid_template_columns": null,
      "grid_template_rows": null,
      "height": null,
      "justify_content": null,
      "justify_items": null,
      "left": null,
      "margin": null,
      "max_height": null,
      "max_width": null,
      "min_height": null,
      "min_width": null,
      "object_fit": null,
      "object_position": null,
      "order": null,
      "overflow": null,
      "overflow_x": null,
      "overflow_y": null,
      "padding": null,
      "right": null,
      "top": null,
      "visibility": null,
      "width": null
     }
    },
    "0af00c2d21174db6850a849f999a3379": {
     "model_module": "@jupyter-widgets/controls",
     "model_name": "HBoxModel",
     "state": {
      "_dom_classes": [],
      "_model_module": "@jupyter-widgets/controls",
      "_model_module_version": "1.5.0",
      "_model_name": "HBoxModel",
      "_view_count": null,
      "_view_module": "@jupyter-widgets/controls",
      "_view_module_version": "1.5.0",
      "_view_name": "HBoxView",
      "box_style": "",
      "children": [
       "IPY_MODEL_aac8a03b53f64bcb9842733c5b3427b0",
       "IPY_MODEL_4bd2b15269574a658fc2823fbdc0fe34"
      ],
      "layout": "IPY_MODEL_26f3003aea2e4e838b8dac0411e256c7"
     }
    },
    "26f3003aea2e4e838b8dac0411e256c7": {
     "model_module": "@jupyter-widgets/base",
     "model_name": "LayoutModel",
     "state": {
      "_model_module": "@jupyter-widgets/base",
      "_model_module_version": "1.2.0",
      "_model_name": "LayoutModel",
      "_view_count": null,
      "_view_module": "@jupyter-widgets/base",
      "_view_module_version": "1.2.0",
      "_view_name": "LayoutView",
      "align_content": null,
      "align_items": null,
      "align_self": null,
      "border": null,
      "bottom": null,
      "display": null,
      "flex": null,
      "flex_flow": null,
      "grid_area": null,
      "grid_auto_columns": null,
      "grid_auto_flow": null,
      "grid_auto_rows": null,
      "grid_column": null,
      "grid_gap": null,
      "grid_row": null,
      "grid_template_areas": null,
      "grid_template_columns": null,
      "grid_template_rows": null,
      "height": null,
      "justify_content": null,
      "justify_items": null,
      "left": null,
      "margin": null,
      "max_height": null,
      "max_width": null,
      "min_height": null,
      "min_width": null,
      "object_fit": null,
      "object_position": null,
      "order": null,
      "overflow": null,
      "overflow_x": null,
      "overflow_y": null,
      "padding": null,
      "right": null,
      "top": null,
      "visibility": null,
      "width": null
     }
    },
    "4bd2b15269574a658fc2823fbdc0fe34": {
     "model_module": "@jupyter-widgets/controls",
     "model_name": "HTMLModel",
     "state": {
      "_dom_classes": [],
      "_model_module": "@jupyter-widgets/controls",
      "_model_module_version": "1.5.0",
      "_model_name": "HTMLModel",
      "_view_count": null,
      "_view_module": "@jupyter-widgets/controls",
      "_view_module_version": "1.5.0",
      "_view_name": "HTMLView",
      "description": "",
      "description_tooltip": null,
      "layout": "IPY_MODEL_06592a5d41ca499ebf484646fada7f1c",
      "placeholder": "​",
      "style": "IPY_MODEL_ab1522b8cac247119c1ec01c0ad5287e",
      "value": " 300/300 [00:39&lt;00:00,  7.63it/s]"
     }
    },
    "787278646ff949cb81accacaf797ec7d": {
     "model_module": "@jupyter-widgets/base",
     "model_name": "LayoutModel",
     "state": {
      "_model_module": "@jupyter-widgets/base",
      "_model_module_version": "1.2.0",
      "_model_name": "LayoutModel",
      "_view_count": null,
      "_view_module": "@jupyter-widgets/base",
      "_view_module_version": "1.2.0",
      "_view_name": "LayoutView",
      "align_content": null,
      "align_items": null,
      "align_self": null,
      "border": null,
      "bottom": null,
      "display": null,
      "flex": null,
      "flex_flow": null,
      "grid_area": null,
      "grid_auto_columns": null,
      "grid_auto_flow": null,
      "grid_auto_rows": null,
      "grid_column": null,
      "grid_gap": null,
      "grid_row": null,
      "grid_template_areas": null,
      "grid_template_columns": null,
      "grid_template_rows": null,
      "height": null,
      "justify_content": null,
      "justify_items": null,
      "left": null,
      "margin": null,
      "max_height": null,
      "max_width": null,
      "min_height": null,
      "min_width": null,
      "object_fit": null,
      "object_position": null,
      "order": null,
      "overflow": null,
      "overflow_x": null,
      "overflow_y": null,
      "padding": null,
      "right": null,
      "top": null,
      "visibility": null,
      "width": null
     }
    },
    "8fc487c4709e4f108b40272c4660077e": {
     "model_module": "@jupyter-widgets/controls",
     "model_name": "ProgressStyleModel",
     "state": {
      "_model_module": "@jupyter-widgets/controls",
      "_model_module_version": "1.5.0",
      "_model_name": "ProgressStyleModel",
      "_view_count": null,
      "_view_module": "@jupyter-widgets/base",
      "_view_module_version": "1.2.0",
      "_view_name": "StyleView",
      "bar_color": null,
      "description_width": "initial"
     }
    },
    "aac8a03b53f64bcb9842733c5b3427b0": {
     "model_module": "@jupyter-widgets/controls",
     "model_name": "FloatProgressModel",
     "state": {
      "_dom_classes": [],
      "_model_module": "@jupyter-widgets/controls",
      "_model_module_version": "1.5.0",
      "_model_name": "FloatProgressModel",
      "_view_count": null,
      "_view_module": "@jupyter-widgets/controls",
      "_view_module_version": "1.5.0",
      "_view_name": "ProgressView",
      "bar_style": "success",
      "description": "100%",
      "description_tooltip": null,
      "layout": "IPY_MODEL_787278646ff949cb81accacaf797ec7d",
      "max": 300,
      "min": 0,
      "orientation": "horizontal",
      "style": "IPY_MODEL_8fc487c4709e4f108b40272c4660077e",
      "value": 300
     }
    },
    "ab1522b8cac247119c1ec01c0ad5287e": {
     "model_module": "@jupyter-widgets/controls",
     "model_name": "DescriptionStyleModel",
     "state": {
      "_model_module": "@jupyter-widgets/controls",
      "_model_module_version": "1.5.0",
      "_model_name": "DescriptionStyleModel",
      "_view_count": null,
      "_view_module": "@jupyter-widgets/base",
      "_view_module_version": "1.2.0",
      "_view_name": "StyleView",
      "description_width": ""
     }
    }
   }
  }
 },
 "nbformat": 4,
 "nbformat_minor": 1
}
