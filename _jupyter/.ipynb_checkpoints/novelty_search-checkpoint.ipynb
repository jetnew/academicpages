{
 "cells": [
  {
   "cell_type": "markdown",
   "metadata": {
    "id": "Cg8tRgXw9TEG"
   },
   "source": [
    "# Novelty Search\n",
    "\n",
    "Novelty Search is an Evolutionary Strategy (ES) algorithm that optimises using a novelty function instead of a fitness function (like in a vanilla genetic algorithm), which has shown to produce competitive performance for exploration in reinforcement learning. The novelty of a solution is defined by how similar the solution's behaviour is as compared to the rest of the population. The novelty score is therefore computed by its average distance from the k-nearest neighbours in the population. 3rd of a 3-part series on evolutionary computation (Part 1 - [Genetic Algorithm](https://jetnew.io/posts/2020/11/genetic-algorithm/), Part 2 - [Neuroevolution](https://jetnew.io/posts/2020/11/neuroevolution/))."
   ]
  },
  {
   "cell_type": "code",
   "execution_count": 1,
   "metadata": {
    "id": "N2_TMs33QHaw"
   },
   "outputs": [],
   "source": [
    "import numpy as np\n",
    "np.random.seed(0)\n",
    "import matplotlib.pyplot as plt\n",
    "import gym\n",
    "import torch\n",
    "import torch.nn as nn\n",
    "import torch.nn.functional as F\n",
    "import torch.optim as optim\n",
    "from torch.autograd import Variable"
   ]
  },
  {
   "cell_type": "markdown",
   "metadata": {},
   "source": [
    "# Neuroevolution for Reinforcement Learning\n",
    "\n",
    "Neuroevolution is the application of evolutionary strategies to neural networks. We use a simple neural network in PyTorch, with 2 linear layers and 2 non-linear activation functions tangent and sigmoid. In deep reinforcement learning, the neural network serves as function mapping from the observation of the environment to an action chosen by the agent. Over one episode, the agent performs an action and the state of the environment is observed by the agent, along with a reward at that particular timestep. The fitness of an individual neural network is therefore defined by the cumulative reward obtained by the agent over one episode of interacting with the environment. The environment used is [CartPole-v1](https://gym.openai.com/envs/CartPole-v1/), where the agent's goal is to balance the pole by pushing the cart. The state observed by the agent is defined as:\n",
    "\n",
    "$$Observation = [Cart Position, Cart Velocity, Pole Angle, Pole Angular Velocity]$$\n",
    "\n",
    "where the range of values are:\n",
    "\n",
    "$$Cart Position = [-4.8,4.8]$$\n",
    "$$Cart Velocity = [-Inf, Inf]$$\n",
    "$$Pole Angle = [-24 degrees, 24 degrees]$$\n",
    "$$Pole Angular Velocity = [-Inf, Inf]$$\n",
    "\n",
    "and the action is a single scalar discrete value:\n",
    "\n",
    "$$Action = [0, 1]$$\n",
    "\n",
    "where $0$ and $1$ represents the action of pushing the cart to the left and right respectively."
   ]
  },
  {
   "cell_type": "code",
   "execution_count": 2,
   "metadata": {
    "id": "QXlsOuBPHOLY"
   },
   "outputs": [],
   "source": [
    "class Net(nn.Module):\n",
    "  def __init__(self, input_size, output_size, n_hidden=16):\n",
    "    super(Net, self).__init__()\n",
    "    self.linear1 = nn.Linear(input_size, n_hidden, bias=True)\n",
    "    self.tanh1 = nn.Tanh()\n",
    "    self.linear2 = nn.Linear(n_hidden, output_size)\n",
    "    self.sigmoid = nn.Sigmoid()\n",
    "  def forward(self, x):\n",
    "    x = self.linear1(x)\n",
    "    x = self.tanh1(x)\n",
    "    x = self.linear2(x)\n",
    "    x = self.sigmoid(x)\n",
    "    return x\n",
    "\n",
    "\n",
    "def get_action(net, obs):\n",
    "  return net(torch.from_numpy(obs.copy()).float()).detach().numpy().argmax()\n",
    "\n",
    "def evaluate(net):\n",
    "  obs = env.reset()\n",
    "  done = False\n",
    "  total_reward = 0\n",
    "  while not done:\n",
    "    action = get_action(net, obs)\n",
    "    obs, reward, done, _ = env.step(action)\n",
    "    total_reward += reward\n",
    "  return total_reward\n",
    "\n",
    "def fitness_function(net, episodes=1):\n",
    "  return np.mean([evaluate(net) for _ in range(episodes)])\n",
    "\n",
    "def compute_fitness(population):\n",
    "  return np.array([fitness_function(individual) for individual in population])\n",
    "\n",
    "def get_fittest(population, fitness_scores):\n",
    "  return population[fitness_scores.argmax()]"
   ]
  },
  {
   "cell_type": "markdown",
   "metadata": {},
   "source": [
    "# Novelty Selection\n",
    "\n",
    "The main difference between neuroevolution and novelty search is the selection criterion, changed from the fitness score to the novelty score. Instead of selecting for the fittest individuals in a population, novelty search selects the most novel individuals by the novelty score with respect to the rest of the population. The novelty score indicates the novelty of an individual, defined as the average difference of an individual $\\pi$ to $k$-nearest neighbours in the population, notably in terms of their behaviour. Therefore, the behaviour of an individual $b(\\pi_i)$ must be defined. We employ a simple characterisation of a neural network's behaviour as the terminal (final) state $s_n$ in the sequence of states observed by the agent $S_{\\pi_i} = [s_1, s_2, ..., s_n]$ in 1 evaluation:\n",
    "\n",
    "$$Behaviour(\\pi_i) = Terminal(S_{\\pi_i}) = s_{n}$$\n",
    "\n",
    "The similarity between 2 individuals' behaviours is simply the sum of squared difference between final observations:\n",
    "\n",
    "$$Similarity(\\pi_i, \\pi_j) = ||Behaviour(\\pi_i) - Behaviour(\\pi_j)||$$\n",
    "\n",
    "The novelty of an individual with respect to its $k$-nearest neighbours of the population $P$ is defined by:\n",
    "\n",
    "$$Novelty(\\pi_i, N_{\\pi_i}) = \\frac{1}{|N_{\\pi_i}|} \\sum_{\\pi_k\\in N_{\\pi_i}}Similarity(\\pi_i, \\pi_k)$$\n",
    "\n",
    "where $N_{\\pi_i}$ refers to the $k$-nearest neighbours of $\\pi_i$. The $k$-nearest neighbours $N_{\\pi_i}$ are selected by the $k$ largest similarity scores between $\\pi_i$ and $\\pi_{k}\\in N_{\\pi_i}$."
   ]
  },
  {
   "cell_type": "code",
   "execution_count": 3,
   "metadata": {},
   "outputs": [],
   "source": [
    "def behaviour(net):\n",
    "  obs = env.reset()\n",
    "  done = False\n",
    "  while not done:\n",
    "    action = get_action(net, obs)\n",
    "    obs, reward, done, _ = env.step(action)\n",
    "  return obs\n",
    "\n",
    "def similarity(net1, net2):\n",
    "    b1, b2 = behaviour(net1), behaviour(net2)\n",
    "    return np.sum((b1 - b2)**2)\n",
    "\n",
    "def compute_novelty(population, k=3):\n",
    "    distances = []\n",
    "    n = len(population)\n",
    "    for i in range(n):\n",
    "        distance_i = sorted([similarity(population[i], population[j]) for j in range(n) if i != j])[:k]\n",
    "        distances.append(np.mean(distance_i))\n",
    "    return distances\n",
    "\n",
    "def get_novel_subpopulation(population, novelty_scores):\n",
    "  return population[novelty_scores.argmax()]\n",
    "\n",
    "def select_most_novel(population, novelty_scores, k=0.5):\n",
    "  return population[np.argsort(novelty_scores)[-int(len(population) * k):]]"
   ]
  },
  {
   "cell_type": "markdown",
   "metadata": {},
   "source": [
    "# Perform Reproduction\n",
    "\n",
    "As with neuroevolution, reproduction among the novel parent individuals is performed by simply sampling then making a copy of the parent individual to form child individuals, replenishing the population. There is no change from the neuroevolution implementation in [Part 2](https://jetnew.io/posts/2020/11/neuroevolution/)."
   ]
  },
  {
   "cell_type": "code",
   "execution_count": 4,
   "metadata": {
    "id": "mIbTaerwM-Do"
   },
   "outputs": [],
   "source": [
    "import copy\n",
    "\n",
    "def perform_reproduction(subpopulation):\n",
    "  num_children = population_size - len(subpopulation)\n",
    "  parents = np.random.choice(subpopulation, num_children)\n",
    "  return np.append(subpopulation, [copy.deepcopy(p) for p in parents], axis=0)"
   ]
  },
  {
   "cell_type": "markdown",
   "metadata": {},
   "source": [
    "# Perform Mutation\n",
    "\n",
    "As with neuroevolution, mutation is performed by applying an additive Gaussian noise to the parameters of the neural networks. There is no change from the neuroevolution implementation in [Part 2](https://jetnew.io/posts/2020/11/neuroevolution/)."
   ]
  },
  {
   "cell_type": "code",
   "execution_count": 5,
   "metadata": {
    "id": "lirnn-dXIIdG"
   },
   "outputs": [],
   "source": [
    "from torch.nn.utils import parameters_to_vector, vector_to_parameters\n",
    "\n",
    "def get_params(net):\n",
    "  return parameters_to_vector(net.parameters())\n",
    "\n",
    "def mutate_params(net, sigma=0.1):\n",
    "    mutated_params = get_params(net) + torch.normal(0, sigma, size=get_params(net).data.shape)\n",
    "    vector_to_parameters(mutated_params, net.parameters())\n",
    "\n",
    "def perform_mutation(population, sigma=0.1):\n",
    "  for individual in population:\n",
    "    mutate_params(individual, sigma=0.1)\n",
    "  return population"
   ]
  },
  {
   "cell_type": "markdown",
   "metadata": {},
   "source": [
    "# The Novelty Search Algorithm\n",
    "\n",
    "By selecting the most novel individuals over generations, the individuals in the population will find its behavioural niche, improving exploration in the behaviour space.\n",
    "\n",
    "Novelty Search:\n",
    "1. Generate the initial population of individuals.\n",
    "2. Repeat until convergence:\n",
    "  1. Compute novelty of the population.\n",
    "  2. Select the most novel individuals to form the parent subpopulation.\n",
    "  3. Perform reproduction between parents to produce children.\n",
    "  4. Perform mutation on the population.\n",
    "    \n",
    "3. Select the fittest individual of the population as the solution."
   ]
  },
  {
   "cell_type": "code",
   "execution_count": 6,
   "metadata": {
    "colab": {
     "base_uri": "https://localhost:8080/",
     "height": 314,
     "referenced_widgets": [
      "80009788c32f42e7b2057901b6942e15",
      "b79b24d700074c48855306bbd50639ff",
      "de2c19e47bf248709fc4ef9cac30b282",
      "798a1e0b91634e1186a9afb673aac016",
      "f2e900bd0b6b47ffa2b2683ad9db8140",
      "c0888c84a6764130954e2871f0892d57",
      "936a3317a8a44cb486a9d0bd4d4ec46d",
      "43e14e14f8af443581a73cab517e324c"
     ]
    },
    "id": "KKY32vmmIcHF",
    "outputId": "1ebf35a1-0f49-41cc-da78-8eaee14d1f28"
   },
   "outputs": [
    {
     "data": {
      "image/png": "[encoded data removed]",
      "text/plain": [
       "<Figure size 432x288 with 1 Axes>"
      ]
     },
     "metadata": {
      "needs_background": "light"
     },
     "output_type": "display_data"
    }
   ],
   "source": [
    "# Novelty Search hyperparameters\n",
    "population_size = 20\n",
    "num_generations = 30\n",
    "top_k = 0.2\n",
    "mutation_sigma = 0.1\n",
    "k_nearest = 3\n",
    "\n",
    "# CartPole environment initialisation\n",
    "env = gym.make('CartPole-v1')\n",
    "\n",
    "# Neural network hyperparameters\n",
    "input_size = env.observation_space.shape[0]\n",
    "output_size = env.action_space.n\n",
    "n_hidden = 16\n",
    "\n",
    "# Process 1: Generate the initial population.\n",
    "population = np.array([Net(input_size, output_size, n_hidden) for _ in range(population_size)])\n",
    "\n",
    "# Misc: Experimental tracking\n",
    "scores = []\n",
    "fittests = []\n",
    "\n",
    "for i in range(num_generations):\n",
    "\n",
    "  # Process 2: Compute the novelty of individuals with respect to closest neighbours in the population.\n",
    "  novelty_scores = compute_novelty(population, k=k_nearest)\n",
    "    \n",
    "  # Process 3: Select the most novel individuals.\n",
    "  novel_subpopulation = select_most_novel(population, novelty_scores, k=top_k)\n",
    "\n",
    "  # Misc: Experimental tracking\n",
    "  fitness_scores = compute_fitness(population)\n",
    "  fittest = get_fittest(population, fitness_scores)\n",
    "  fittests.append(fittest)\n",
    "  scores.append(max(fitness_scores))\n",
    "\n",
    "  # Process 4: Perform reproduction between parents.\n",
    "  children = perform_reproduction(novel_subpopulation)\n",
    "  population = perform_mutation(children, sigma=mutation_sigma)\n",
    "\n",
    "\n",
    "# Misc: Experimental tracking\n",
    "plt.plot(np.arange(num_generations), scores)\n",
    "plt.show()"
   ]
  },
  {
   "cell_type": "markdown",
   "metadata": {},
   "source": [
    "# Experiment Results\n",
    "\n",
    "Plotting the novelty score against fitness score for the final population, the novelty score defined by the $k$-nearest neighbour similarity of terminal states is not linearly correlated with a high fitness score. It is important that the novelty score is not linearly correlated with the fitness score because a linear combination of the fitness score would have been used for selection, defeating the purpose of novelty-based search."
   ]
  },
  {
   "cell_type": "code",
   "execution_count": 7,
   "metadata": {
    "scrolled": false
   },
   "outputs": [
    {
     "data": {
      "image/png": "[encoded data removed]",
      "text/plain": [
       "<Figure size 432x288 with 1 Axes>"
      ]
     },
     "metadata": {
      "needs_background": "light"
     },
     "output_type": "display_data"
    }
   ],
   "source": [
    "plt.xlabel(\"Novelty Score\")\n",
    "plt.ylabel(\"Fitness Score\")\n",
    "plt.scatter(novelty_scores, fitness_scores)\n",
    "plt.show()"
   ]
  },
  {
   "cell_type": "markdown",
   "metadata": {},
   "source": [
    "Visualising an episode of the fittest individual shows that the novelty search algorithm has successfully achieved the goal of CartPole-v1 of balancing the pole. For an introductory treatment of the genetic algorithm, refer to [Part 1](https://jetnew.io/posts/2020/11/genetic-algorithm/). For an introductory treatment of neuroevolution, refer to [Part 2](https://jetnew.io/posts/2020/11/novelty-search/)."
   ]
  },
  {
   "cell_type": "code",
   "execution_count": 8,
   "metadata": {},
   "outputs": [],
   "source": [
    "%%capture\n",
    "from matplotlib.animation import FuncAnimation\n",
    "\n",
    "def get_frames(net, episodes=3):\n",
    "  frames = []\n",
    "  for i in range(episodes):\n",
    "    obs = env.reset()\n",
    "    done = False\n",
    "    total_reward = 0\n",
    "    while not done:\n",
    "      action = get_action(net, obs)\n",
    "      obs, reward, done, _ = env.step(action)\n",
    "      frames.append(env.render(mode='rgb_array'))\n",
    "  env.close()\n",
    "  return frames\n",
    "\n",
    "frames = get_frames(fittest, episodes=3)\n",
    "fig, ax = plt.subplots()\n",
    "screen = plt.imshow(frames[i])\n",
    "\n",
    "def animate(i):\n",
    "  screen.set_data(frames[i])\n",
    "\n",
    "ani = FuncAnimation(fig, animate, frames=np.arange(0, len(frames)), interval=80, repeat=False)"
   ]
  },
  {
   "cell_type": "code",
   "execution_count": 9,
   "metadata": {},
   "outputs": [
    {
     "name": "stderr",
     "output_type": "stream",
     "text": [
      "MovieWriter ffmpeg unavailable; using Pillow instead.\n"
     ]
    }
   ],
   "source": [
    "ani.save('../images/novelty-search/novelty_search.gif')"
   ]
  },
  {
   "cell_type": "markdown",
   "metadata": {},
   "source": [
    "<img src=\"../images/novelty-search/novelty_search.gif\">"
   ]
  }
 ],
 "metadata": {
  "colab": {
   "collapsed_sections": [],
   "name": "novelty-search.ipynb",
   "provenance": []
  },
  "kernelspec": {
   "display_name": "Python (neuroevolution)",
   "language": "python",
   "name": "neuroevolution"
  },
  "language_info": {
   "codemirror_mode": {
    "name": "ipython",
    "version": 3
   },
   "file_extension": ".py",
   "mimetype": "text/x-python",
   "name": "python",
   "nbconvert_exporter": "python",
   "pygments_lexer": "ipython3",
   "version": "3.7.8"
  },
  "widgets": {
   "application/vnd.jupyter.widget-state+json": {
    "43e14e14f8af443581a73cab517e324c": {
     "model_module": "@jupyter-widgets/base",
     "model_name": "LayoutModel",
     "state": {
      "_model_module": "@jupyter-widgets/base",
      "_model_module_version": "1.2.0",
      "_model_name": "LayoutModel",
      "_view_count": null,
      "_view_module": "@jupyter-widgets/base",
      "_view_module_version": "1.2.0",
      "_view_name": "LayoutView",
      "align_content": null,
      "align_items": null,
      "align_self": null,
      "border": null,
      "bottom": null,
      "display": null,
      "flex": null,
      "flex_flow": null,
      "grid_area": null,
      "grid_auto_columns": null,
      "grid_auto_flow": null,
      "grid_auto_rows": null,
      "grid_column": null,
      "grid_gap": null,
      "grid_row": null,
      "grid_template_areas": null,
      "grid_template_columns": null,
      "grid_template_rows": null,
      "height": null,
      "justify_content": null,
      "justify_items": null,
      "left": null,
      "margin": null,
      "max_height": null,
      "max_width": null,
      "min_height": null,
      "min_width": null,
      "object_fit": null,
      "object_position": null,
      "order": null,
      "overflow": null,
      "overflow_x": null,
      "overflow_y": null,
      "padding": null,
      "right": null,
      "top": null,
      "visibility": null,
      "width": null
     }
    },
    "798a1e0b91634e1186a9afb673aac016": {
     "model_module": "@jupyter-widgets/controls",
     "model_name": "HTMLModel",
     "state": {
      "_dom_classes": [],
      "_model_module": "@jupyter-widgets/controls",
      "_model_module_version": "1.5.0",
      "_model_name": "HTMLModel",
      "_view_count": null,
      "_view_module": "@jupyter-widgets/controls",
      "_view_module_version": "1.5.0",
      "_view_name": "HTMLView",
      "description": "",
      "description_tooltip": null,
      "layout": "IPY_MODEL_43e14e14f8af443581a73cab517e324c",
      "placeholder": "​",
      "style": "IPY_MODEL_936a3317a8a44cb486a9d0bd4d4ec46d",
      "value": " 10/10 [01:17&lt;00:00,  7.74s/it]"
     }
    },
    "80009788c32f42e7b2057901b6942e15": {
     "model_module": "@jupyter-widgets/controls",
     "model_name": "HBoxModel",
     "state": {
      "_dom_classes": [],
      "_model_module": "@jupyter-widgets/controls",
      "_model_module_version": "1.5.0",
      "_model_name": "HBoxModel",
      "_view_count": null,
      "_view_module": "@jupyter-widgets/controls",
      "_view_module_version": "1.5.0",
      "_view_name": "HBoxView",
      "box_style": "",
      "children": [
       "IPY_MODEL_de2c19e47bf248709fc4ef9cac30b282",
       "IPY_MODEL_798a1e0b91634e1186a9afb673aac016"
      ],
      "layout": "IPY_MODEL_b79b24d700074c48855306bbd50639ff"
     }
    },
    "936a3317a8a44cb486a9d0bd4d4ec46d": {
     "model_module": "@jupyter-widgets/controls",
     "model_name": "DescriptionStyleModel",
     "state": {
      "_model_module": "@jupyter-widgets/controls",
      "_model_module_version": "1.5.0",
      "_model_name": "DescriptionStyleModel",
      "_view_count": null,
      "_view_module": "@jupyter-widgets/base",
      "_view_module_version": "1.2.0",
      "_view_name": "StyleView",
      "description_width": ""
     }
    },
    "b79b24d700074c48855306bbd50639ff": {
     "model_module": "@jupyter-widgets/base",
     "model_name": "LayoutModel",
     "state": {
      "_model_module": "@jupyter-widgets/base",
      "_model_module_version": "1.2.0",
      "_model_name": "LayoutModel",
      "_view_count": null,
      "_view_module": "@jupyter-widgets/base",
      "_view_module_version": "1.2.0",
      "_view_name": "LayoutView",
      "align_content": null,
      "align_items": null,
      "align_self": null,
      "border": null,
      "bottom": null,
      "display": null,
      "flex": null,
      "flex_flow": null,
      "grid_area": null,
      "grid_auto_columns": null,
      "grid_auto_flow": null,
      "grid_auto_rows": null,
      "grid_column": null,
      "grid_gap": null,
      "grid_row": null,
      "grid_template_areas": null,
      "grid_template_columns": null,
      "grid_template_rows": null,
      "height": null,
      "justify_content": null,
      "justify_items": null,
      "left": null,
      "margin": null,
      "max_height": null,
      "max_width": null,
      "min_height": null,
      "min_width": null,
      "object_fit": null,
      "object_position": null,
      "order": null,
      "overflow": null,
      "overflow_x": null,
      "overflow_y": null,
      "padding": null,
      "right": null,
      "top": null,
      "visibility": null,
      "width": null
     }
    },
    "c0888c84a6764130954e2871f0892d57": {
     "model_module": "@jupyter-widgets/base",
     "model_name": "LayoutModel",
     "state": {
      "_model_module": "@jupyter-widgets/base",
      "_model_module_version": "1.2.0",
      "_model_name": "LayoutModel",
      "_view_count": null,
      "_view_module": "@jupyter-widgets/base",
      "_view_module_version": "1.2.0",
      "_view_name": "LayoutView",
      "align_content": null,
      "align_items": null,
      "align_self": null,
      "border": null,
      "bottom": null,
      "display": null,
      "flex": null,
      "flex_flow": null,
      "grid_area": null,
      "grid_auto_columns": null,
      "grid_auto_flow": null,
      "grid_auto_rows": null,
      "grid_column": null,
      "grid_gap": null,
      "grid_row": null,
      "grid_template_areas": null,
      "grid_template_columns": null,
      "grid_template_rows": null,
      "height": null,
      "justify_content": null,
      "justify_items": null,
      "left": null,
      "margin": null,
      "max_height": null,
      "max_width": null,
      "min_height": null,
      "min_width": null,
      "object_fit": null,
      "object_position": null,
      "order": null,
      "overflow": null,
      "overflow_x": null,
      "overflow_y": null,
      "padding": null,
      "right": null,
      "top": null,
      "visibility": null,
      "width": null
     }
    },
    "de2c19e47bf248709fc4ef9cac30b282": {
     "model_module": "@jupyter-widgets/controls",
     "model_name": "FloatProgressModel",
     "state": {
      "_dom_classes": [],
      "_model_module": "@jupyter-widgets/controls",
      "_model_module_version": "1.5.0",
      "_model_name": "FloatProgressModel",
      "_view_count": null,
      "_view_module": "@jupyter-widgets/controls",
      "_view_module_version": "1.5.0",
      "_view_name": "ProgressView",
      "bar_style": "success",
      "description": "100%",
      "description_tooltip": null,
      "layout": "IPY_MODEL_c0888c84a6764130954e2871f0892d57",
      "max": 10,
      "min": 0,
      "orientation": "horizontal",
      "style": "IPY_MODEL_f2e900bd0b6b47ffa2b2683ad9db8140",
      "value": 10
     }
    },
    "f2e900bd0b6b47ffa2b2683ad9db8140": {
     "model_module": "@jupyter-widgets/controls",
     "model_name": "ProgressStyleModel",
     "state": {
      "_model_module": "@jupyter-widgets/controls",
      "_model_module_version": "1.5.0",
      "_model_name": "ProgressStyleModel",
      "_view_count": null,
      "_view_module": "@jupyter-widgets/base",
      "_view_module_version": "1.2.0",
      "_view_name": "StyleView",
      "bar_color": null,
      "description_width": "initial"
     }
    }
   }
  }
 },
 "nbformat": 4,
 "nbformat_minor": 1
}
